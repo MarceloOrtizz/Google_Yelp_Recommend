{
 "cells": [
  {
   "cell_type": "code",
   "execution_count": 1,
   "metadata": {},
   "outputs": [],
   "source": [
    "import pandas as pd \n",
    "import os\n",
    "import json\n",
    "import pandas as pd\n",
    "import pyarrow as pa\n",
    "import pyarrow.parquet as pq\n",
    "import pickle"
   ]
  },
  {
   "cell_type": "code",
   "execution_count": 2,
   "metadata": {},
   "outputs": [],
   "source": [
    "path_metadata = os.path.join('..','Datasets','GoogleMaps','metadata-sitios','metadata-sitios.parquet')\n",
    "\n",
    "metadata = pd.read_parquet (path_metadata)"
   ]
  },
  {
   "cell_type": "code",
   "execution_count": 4,
   "metadata": {},
   "outputs": [
    {
     "data": {
      "text/html": [
       "<div>\n",
       "<style scoped>\n",
       "    .dataframe tbody tr th:only-of-type {\n",
       "        vertical-align: middle;\n",
       "    }\n",
       "\n",
       "    .dataframe tbody tr th {\n",
       "        vertical-align: top;\n",
       "    }\n",
       "\n",
       "    .dataframe thead th {\n",
       "        text-align: right;\n",
       "    }\n",
       "</style>\n",
       "<table border=\"1\" class=\"dataframe\">\n",
       "  <thead>\n",
       "    <tr style=\"text-align: right;\">\n",
       "      <th></th>\n",
       "      <th>name</th>\n",
       "      <th>address</th>\n",
       "      <th>gmap_id</th>\n",
       "      <th>description</th>\n",
       "      <th>latitude</th>\n",
       "      <th>longitude</th>\n",
       "      <th>category</th>\n",
       "      <th>avg_rating</th>\n",
       "      <th>num_of_reviews</th>\n",
       "      <th>price</th>\n",
       "      <th>hours</th>\n",
       "      <th>MISC</th>\n",
       "      <th>state</th>\n",
       "      <th>relative_results</th>\n",
       "      <th>url</th>\n",
       "    </tr>\n",
       "  </thead>\n",
       "  <tbody>\n",
       "    <tr>\n",
       "      <th>1474884</th>\n",
       "      <td>Umpqua Bank</td>\n",
       "      <td>Umpqua Bank, 3938 24th St, San Francisco, CA 9...</td>\n",
       "      <td>0x808f7e1379fdcc2b:0xb21df4139e18ece6</td>\n",
       "      <td>None</td>\n",
       "      <td>37.751723</td>\n",
       "      <td>-122.430440</td>\n",
       "      <td>[Bank, Loan agency]</td>\n",
       "      <td>4.3</td>\n",
       "      <td>7</td>\n",
       "      <td>None</td>\n",
       "      <td>None</td>\n",
       "      <td>{'Accessibility': ['Wheelchair accessible entr...</td>\n",
       "      <td>None</td>\n",
       "      <td>[0x808f7e13709075f5:0x720c98e2d12a09, 0x808580...</td>\n",
       "      <td>https://www.google.com/maps/place//data=!4m2!3...</td>\n",
       "    </tr>\n",
       "    <tr>\n",
       "      <th>2433993</th>\n",
       "      <td>Millennium Medical &amp; Spa Suites</td>\n",
       "      <td>Millennium Medical &amp; Spa Suites, 1520 U.S. Hwy...</td>\n",
       "      <td>0x8099bdd118b0427b:0x6564379f0163f96e</td>\n",
       "      <td>None</td>\n",
       "      <td>38.946014</td>\n",
       "      <td>-119.755573</td>\n",
       "      <td>[Medical spa, Facial spa, Laser hair removal s...</td>\n",
       "      <td>4.6</td>\n",
       "      <td>18</td>\n",
       "      <td>None</td>\n",
       "      <td>[[Saturday, 9AM–6PM], [Sunday, 9AM–6PM], [Mond...</td>\n",
       "      <td>{'Accessibility': ['Wheelchair accessible entr...</td>\n",
       "      <td>Open ⋅ Closes 6PM</td>\n",
       "      <td>[0x8099bdbf930bf4a5:0x1112ab8ab8300cf9, 0x8099...</td>\n",
       "      <td>https://www.google.com/maps/place//data=!4m2!3...</td>\n",
       "    </tr>\n",
       "  </tbody>\n",
       "</table>\n",
       "</div>"
      ],
      "text/plain": [
       "                                    name  \\\n",
       "1474884                      Umpqua Bank   \n",
       "2433993  Millennium Medical & Spa Suites   \n",
       "\n",
       "                                                   address  \\\n",
       "1474884  Umpqua Bank, 3938 24th St, San Francisco, CA 9...   \n",
       "2433993  Millennium Medical & Spa Suites, 1520 U.S. Hwy...   \n",
       "\n",
       "                                       gmap_id description   latitude  \\\n",
       "1474884  0x808f7e1379fdcc2b:0xb21df4139e18ece6        None  37.751723   \n",
       "2433993  0x8099bdd118b0427b:0x6564379f0163f96e        None  38.946014   \n",
       "\n",
       "          longitude                                           category  \\\n",
       "1474884 -122.430440                                [Bank, Loan agency]   \n",
       "2433993 -119.755573  [Medical spa, Facial spa, Laser hair removal s...   \n",
       "\n",
       "         avg_rating  num_of_reviews price  \\\n",
       "1474884         4.3               7  None   \n",
       "2433993         4.6              18  None   \n",
       "\n",
       "                                                     hours  \\\n",
       "1474884                                               None   \n",
       "2433993  [[Saturday, 9AM–6PM], [Sunday, 9AM–6PM], [Mond...   \n",
       "\n",
       "                                                      MISC              state  \\\n",
       "1474884  {'Accessibility': ['Wheelchair accessible entr...               None   \n",
       "2433993  {'Accessibility': ['Wheelchair accessible entr...  Open ⋅ Closes 6PM   \n",
       "\n",
       "                                          relative_results  \\\n",
       "1474884  [0x808f7e13709075f5:0x720c98e2d12a09, 0x808580...   \n",
       "2433993  [0x8099bdbf930bf4a5:0x1112ab8ab8300cf9, 0x8099...   \n",
       "\n",
       "                                                       url  \n",
       "1474884  https://www.google.com/maps/place//data=!4m2!3...  \n",
       "2433993  https://www.google.com/maps/place//data=!4m2!3...  "
      ]
     },
     "execution_count": 4,
     "metadata": {},
     "output_type": "execute_result"
    }
   ],
   "source": [
    "metadata.sample(2)"
   ]
  },
  {
   "cell_type": "code",
   "execution_count": 5,
   "metadata": {},
   "outputs": [],
   "source": [
    "metadata['category2'] = metadata['category'].apply(lambda x: ', '.join([str(x)]))"
   ]
  },
  {
   "cell_type": "code",
   "execution_count": 6,
   "metadata": {},
   "outputs": [],
   "source": [
    "metadata_fast_food = metadata[metadata['category2'].str.contains('Fast food')]"
   ]
  },
  {
   "cell_type": "code",
   "execution_count": 8,
   "metadata": {},
   "outputs": [],
   "source": [
    "metadata_fast_food.to_csv('../csv/metadata.csv.gz', compression='gzip', index=False)"
   ]
  }
 ],
 "metadata": {
  "kernelspec": {
   "display_name": "Python 3",
   "language": "python",
   "name": "python3"
  },
  "language_info": {
   "codemirror_mode": {
    "name": "ipython",
    "version": 3
   },
   "file_extension": ".py",
   "mimetype": "text/x-python",
   "name": "python",
   "nbconvert_exporter": "python",
   "pygments_lexer": "ipython3",
   "version": "3.12.0"
  }
 },
 "nbformat": 4,
 "nbformat_minor": 2
}
