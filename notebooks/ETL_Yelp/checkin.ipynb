{
 "cells": [
  {
   "cell_type": "code",
   "execution_count": 1,
   "metadata": {},
   "outputs": [],
   "source": [
    "import pandas as pd \n",
    "import os\n",
    "import json\n",
    "import pandas as pd\n",
    "import pyarrow as pa\n",
    "import pyarrow.parquet as pq\n",
    "import pickle"
   ]
  },
  {
   "cell_type": "code",
   "execution_count": 2,
   "metadata": {},
   "outputs": [],
   "source": [
    "path_business = os.path.join('.','data','business.csv')\n",
    "business = pd.read_csv (path_business)"
   ]
  },
  {
   "cell_type": "markdown",
   "metadata": {},
   "source": [
    "# CHECKIN"
   ]
  },
  {
   "cell_type": "code",
   "execution_count": 4,
   "metadata": {},
   "outputs": [],
   "source": [
    "checkin_ft = pd.read_json('./Datasets/Yelp/checkin.json', lines=True, orient='records', encoding='utf-8')"
   ]
  },
  {
   "cell_type": "code",
   "execution_count": 5,
   "metadata": {},
   "outputs": [],
   "source": [
    "checkin = checkin_ft[checkin_ft['business_id'].isin(business['business_id'])]"
   ]
  },
  {
   "cell_type": "code",
   "execution_count": 6,
   "metadata": {},
   "outputs": [
    {
     "data": {
      "text/html": [
       "<div>\n",
       "<style scoped>\n",
       "    .dataframe tbody tr th:only-of-type {\n",
       "        vertical-align: middle;\n",
       "    }\n",
       "\n",
       "    .dataframe tbody tr th {\n",
       "        vertical-align: top;\n",
       "    }\n",
       "\n",
       "    .dataframe thead th {\n",
       "        text-align: right;\n",
       "    }\n",
       "</style>\n",
       "<table border=\"1\" class=\"dataframe\">\n",
       "  <thead>\n",
       "    <tr style=\"text-align: right;\">\n",
       "      <th></th>\n",
       "      <th>business_id</th>\n",
       "      <th>date</th>\n",
       "    </tr>\n",
       "  </thead>\n",
       "  <tbody>\n",
       "    <tr>\n",
       "      <th>27</th>\n",
       "      <td>--lqIzK-ZVTtgwiQM63XgQ</td>\n",
       "      <td>2011-07-29 16:37:02, 2011-10-24 16:00:29, 2012...</td>\n",
       "    </tr>\n",
       "    <tr>\n",
       "      <th>68</th>\n",
       "      <td>-0m4IwD1FIOqkA8dh4mVfQ</td>\n",
       "      <td>2018-05-07 02:19:25, 2018-06-18 17:23:51, 2018...</td>\n",
       "    </tr>\n",
       "    <tr>\n",
       "      <th>96</th>\n",
       "      <td>-1iLbEf1NwY-OJp5Hg-3Sg</td>\n",
       "      <td>2017-06-08 00:58:45, 2019-09-01 00:26:05</td>\n",
       "    </tr>\n",
       "    <tr>\n",
       "      <th>98</th>\n",
       "      <td>-1owBLC2h6DF5n_j77oq3g</td>\n",
       "      <td>2013-11-01 17:50:33</td>\n",
       "    </tr>\n",
       "    <tr>\n",
       "      <th>100</th>\n",
       "      <td>-1q9ktAQXpgFSNrst7tzag</td>\n",
       "      <td>2012-03-02 00:15:00, 2012-03-22 16:19:15, 2012...</td>\n",
       "    </tr>\n",
       "    <tr>\n",
       "      <th>...</th>\n",
       "      <td>...</td>\n",
       "      <td>...</td>\n",
       "    </tr>\n",
       "    <tr>\n",
       "      <th>131776</th>\n",
       "      <td>zvB14002Qi0qZ_DH_DfpLg</td>\n",
       "      <td>2015-01-14 23:30:12, 2015-01-30 20:02:07, 2015...</td>\n",
       "    </tr>\n",
       "    <tr>\n",
       "      <th>131793</th>\n",
       "      <td>zvlJoRJfViu-_dZflUn6Bw</td>\n",
       "      <td>2011-11-21 13:53:26, 2012-03-08 17:29:12, 2012...</td>\n",
       "    </tr>\n",
       "    <tr>\n",
       "      <th>131803</th>\n",
       "      <td>zw7yspkw0kygt-dauP3_4g</td>\n",
       "      <td>2015-01-15 00:19:20, 2015-02-14 17:24:40, 2018...</td>\n",
       "    </tr>\n",
       "    <tr>\n",
       "      <th>131843</th>\n",
       "      <td>zx7XemDyT296vmKnFtZSyQ</td>\n",
       "      <td>2019-08-10 19:41:36, 2019-08-12 18:00:40, 2019...</td>\n",
       "    </tr>\n",
       "    <tr>\n",
       "      <th>131846</th>\n",
       "      <td>zxJfzu6Hy4E5bjP9fzh93g</td>\n",
       "      <td>2011-08-20 19:03:04, 2015-10-01 13:00:37, 2016...</td>\n",
       "    </tr>\n",
       "  </tbody>\n",
       "</table>\n",
       "<p>6406 rows × 2 columns</p>\n",
       "</div>"
      ],
      "text/plain": [
       "                   business_id  \\\n",
       "27      --lqIzK-ZVTtgwiQM63XgQ   \n",
       "68      -0m4IwD1FIOqkA8dh4mVfQ   \n",
       "96      -1iLbEf1NwY-OJp5Hg-3Sg   \n",
       "98      -1owBLC2h6DF5n_j77oq3g   \n",
       "100     -1q9ktAQXpgFSNrst7tzag   \n",
       "...                        ...   \n",
       "131776  zvB14002Qi0qZ_DH_DfpLg   \n",
       "131793  zvlJoRJfViu-_dZflUn6Bw   \n",
       "131803  zw7yspkw0kygt-dauP3_4g   \n",
       "131843  zx7XemDyT296vmKnFtZSyQ   \n",
       "131846  zxJfzu6Hy4E5bjP9fzh93g   \n",
       "\n",
       "                                                     date  \n",
       "27      2011-07-29 16:37:02, 2011-10-24 16:00:29, 2012...  \n",
       "68      2018-05-07 02:19:25, 2018-06-18 17:23:51, 2018...  \n",
       "96               2017-06-08 00:58:45, 2019-09-01 00:26:05  \n",
       "98                                    2013-11-01 17:50:33  \n",
       "100     2012-03-02 00:15:00, 2012-03-22 16:19:15, 2012...  \n",
       "...                                                   ...  \n",
       "131776  2015-01-14 23:30:12, 2015-01-30 20:02:07, 2015...  \n",
       "131793  2011-11-21 13:53:26, 2012-03-08 17:29:12, 2012...  \n",
       "131803  2015-01-15 00:19:20, 2015-02-14 17:24:40, 2018...  \n",
       "131843  2019-08-10 19:41:36, 2019-08-12 18:00:40, 2019...  \n",
       "131846  2011-08-20 19:03:04, 2015-10-01 13:00:37, 2016...  \n",
       "\n",
       "[6406 rows x 2 columns]"
      ]
     },
     "execution_count": 6,
     "metadata": {},
     "output_type": "execute_result"
    }
   ],
   "source": [
    "checkin"
   ]
  },
  {
   "cell_type": "code",
   "execution_count": 7,
   "metadata": {},
   "outputs": [],
   "source": [
    "path_checkin = os.path.join('.','csv','checkin.csv')\n",
    "checkin.to_csv(path_checkin, index=False)"
   ]
  }
 ],
 "metadata": {
  "kernelspec": {
   "display_name": "Python 3",
   "language": "python",
   "name": "python3"
  },
  "language_info": {
   "codemirror_mode": {
    "name": "ipython",
    "version": 3
   },
   "file_extension": ".py",
   "mimetype": "text/x-python",
   "name": "python",
   "nbconvert_exporter": "python",
   "pygments_lexer": "ipython3",
   "version": "3.12.0"
  }
 },
 "nbformat": 4,
 "nbformat_minor": 2
}
