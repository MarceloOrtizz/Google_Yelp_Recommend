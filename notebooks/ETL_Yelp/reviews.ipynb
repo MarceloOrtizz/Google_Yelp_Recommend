{
 "cells": [
  {
   "cell_type": "code",
   "execution_count": 2,
   "metadata": {},
   "outputs": [],
   "source": [
    "import pandas as pd \n",
    "import os\n",
    "import json\n",
    "import pandas as pd\n",
    "import pyarrow as pa\n",
    "import pyarrow.parquet as pq\n",
    "import pickle"
   ]
  },
  {
   "cell_type": "markdown",
   "metadata": {},
   "source": [
    "<div style=\"text-align:center;\">\n",
    "  <img src=\"../../images/DER.png\" alt=\"DER\" width=\"800\" height=\"500\">\n",
    "</div>"
   ]
  },
  {
   "cell_type": "markdown",
   "metadata": {},
   "source": [
    "## Extracción"
   ]
  },
  {
   "cell_type": "code",
   "execution_count": null,
   "metadata": {},
   "outputs": [],
   "source": [
    "reviews = pd.read_csv('./Datasets/Yelp/review-002.csv')"
   ]
  },
  {
   "cell_type": "code",
   "execution_count": null,
   "metadata": {},
   "outputs": [
    {
     "data": {
      "text/html": [
       "<div>\n",
       "<style scoped>\n",
       "    .dataframe tbody tr th:only-of-type {\n",
       "        vertical-align: middle;\n",
       "    }\n",
       "\n",
       "    .dataframe tbody tr th {\n",
       "        vertical-align: top;\n",
       "    }\n",
       "\n",
       "    .dataframe thead th {\n",
       "        text-align: right;\n",
       "    }\n",
       "</style>\n",
       "<table border=\"1\" class=\"dataframe\">\n",
       "  <thead>\n",
       "    <tr style=\"text-align: right;\">\n",
       "      <th></th>\n",
       "      <th>Unnamed: 0</th>\n",
       "      <th>review_id</th>\n",
       "      <th>user_id</th>\n",
       "      <th>business_id</th>\n",
       "      <th>stars</th>\n",
       "      <th>useful</th>\n",
       "      <th>funny</th>\n",
       "      <th>cool</th>\n",
       "      <th>text</th>\n",
       "      <th>date</th>\n",
       "    </tr>\n",
       "  </thead>\n",
       "  <tbody>\n",
       "    <tr>\n",
       "      <th>2124494</th>\n",
       "      <td>2124494</td>\n",
       "      <td>FMvKlH7Xm6eKiwpkp5FPhw</td>\n",
       "      <td>xJ6HoOEq1IvJXuHnMPA_ew</td>\n",
       "      <td>ZdkonZFKPrGVeu-ZLQfE6A</td>\n",
       "      <td>3</td>\n",
       "      <td>1</td>\n",
       "      <td>0</td>\n",
       "      <td>0</td>\n",
       "      <td>While this should probably be good or great th...</td>\n",
       "      <td>2021-03-21 17:24:58</td>\n",
       "    </tr>\n",
       "    <tr>\n",
       "      <th>4078080</th>\n",
       "      <td>4078080</td>\n",
       "      <td>U2GTcWdz5LdkykmdDnr53Q</td>\n",
       "      <td>X2Y8dvYme9vtcbjrIrcwIg</td>\n",
       "      <td>YzVm2QUvNwZ2cXwTczvCnw</td>\n",
       "      <td>1</td>\n",
       "      <td>6</td>\n",
       "      <td>0</td>\n",
       "      <td>1</td>\n",
       "      <td>This is a review I started to post the first w...</td>\n",
       "      <td>2020-07-25 20:33:59</td>\n",
       "    </tr>\n",
       "  </tbody>\n",
       "</table>\n",
       "</div>"
      ],
      "text/plain": [
       "         Unnamed: 0               review_id                 user_id  \\\n",
       "2124494     2124494  FMvKlH7Xm6eKiwpkp5FPhw  xJ6HoOEq1IvJXuHnMPA_ew   \n",
       "4078080     4078080  U2GTcWdz5LdkykmdDnr53Q  X2Y8dvYme9vtcbjrIrcwIg   \n",
       "\n",
       "                    business_id  stars  useful  funny  cool  \\\n",
       "2124494  ZdkonZFKPrGVeu-ZLQfE6A      3       1      0     0   \n",
       "4078080  YzVm2QUvNwZ2cXwTczvCnw      1       6      0     1   \n",
       "\n",
       "                                                      text  \\\n",
       "2124494  While this should probably be good or great th...   \n",
       "4078080  This is a review I started to post the first w...   \n",
       "\n",
       "                        date  \n",
       "2124494  2021-03-21 17:24:58  \n",
       "4078080  2020-07-25 20:33:59  "
      ]
     },
     "execution_count": 3,
     "metadata": {},
     "output_type": "execute_result"
    }
   ],
   "source": [
    "reviews.sample(2)"
   ]
  },
  {
   "cell_type": "code",
   "execution_count": null,
   "metadata": {},
   "outputs": [],
   "source": [
    "path_business = os.path.join('..','..','data','yelp','business.csv.gz')\n",
    "business = pd.read_csv(path_business)"
   ]
  },
  {
   "cell_type": "markdown",
   "metadata": {},
   "source": [
    "## Transformación"
   ]
  },
  {
   "cell_type": "code",
   "execution_count": null,
   "metadata": {},
   "outputs": [],
   "source": [
    "reviews = reviews[reviews['business_id'].isin(business['business_id'])]"
   ]
  },
  {
   "cell_type": "code",
   "execution_count": null,
   "metadata": {},
   "outputs": [],
   "source": [
    "reviews"
   ]
  },
  {
   "cell_type": "markdown",
   "metadata": {},
   "source": [
    "## Carga"
   ]
  },
  {
   "cell_type": "code",
   "execution_count": 7,
   "metadata": {},
   "outputs": [],
   "source": [
    "reviews_path = os.path.join('..','..','data','yelp','reviews.csv.gz')\n",
    "reviews.to_csv(reviews_path,index=False, compression='gzip')"
   ]
  }
 ],
 "metadata": {
  "kernelspec": {
   "display_name": "Python 3",
   "language": "python",
   "name": "python3"
  },
  "language_info": {
   "codemirror_mode": {
    "name": "ipython",
    "version": 3
   },
   "file_extension": ".py",
   "mimetype": "text/x-python",
   "name": "python",
   "nbconvert_exporter": "python",
   "pygments_lexer": "ipython3",
   "version": "3.12.0"
  }
 },
 "nbformat": 4,
 "nbformat_minor": 2
}
